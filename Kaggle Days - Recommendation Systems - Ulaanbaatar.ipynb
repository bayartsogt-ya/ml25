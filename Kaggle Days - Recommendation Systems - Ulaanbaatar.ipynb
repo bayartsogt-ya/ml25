{
 "cells": [
  {
   "cell_type": "markdown",
   "metadata": {},
   "source": [
    "Exercise for Kaggle Days Ulaanbaatar\n",
    "================================"
   ]
  },
  {
   "cell_type": "markdown",
   "metadata": {},
   "source": [
    "Download the file with ratings from movie lens dataset.\n",
    "\n",
    "More information here https://grouplens.org/datasets/movielens/"
   ]
  },
  {
   "cell_type": "code",
   "execution_count": 1,
   "metadata": {},
   "outputs": [
    {
     "name": "stdout",
     "output_type": "stream",
     "text": [
      "--2020-11-06 23:14:59--  http://files.grouplens.org/datasets/movielens/ml-25m.zip\n",
      "Translacja files.grouplens.org (files.grouplens.org)... 128.101.65.152\n",
      "Łączenie się z files.grouplens.org (files.grouplens.org)|128.101.65.152|:80... połączono.\n",
      "Żądanie HTTP wysłano, oczekiwanie na odpowiedź... 200 OK\n",
      "Długość: 261978986 (250M) [application/zip]\n",
      "Zapis do: `ml-25m.zip.1'\n",
      "\n",
      "ml-25m.zip.1        100%[===================>] 249,84M  8,85MB/s     w 38s     \n",
      "\n",
      "2020-11-06 23:15:38 (6,50 MB/s) - zapisano `ml-25m.zip.1' [261978986/261978986]\n",
      "\n",
      "Archive:  ml-25m.zip\n",
      "replace ml-25m/tags.csv? [y]es, [n]o, [A]ll, [N]one, [r]ename: ^C\n"
     ]
    }
   ],
   "source": [
    "!wget http://files.grouplens.org/datasets/movielens/ml-25m.zip\n",
    "!unzip ml-25m.zip"
   ]
  },
  {
   "cell_type": "code",
   "execution_count": 2,
   "metadata": {},
   "outputs": [],
   "source": [
    "import pandas as pd\n",
    "from scipy import sparse\n",
    "from sklearn.decomposition import TruncatedSVD\n",
    "from sklearn.neighbors import NearestNeighbors"
   ]
  },
  {
   "cell_type": "code",
   "execution_count": 3,
   "metadata": {},
   "outputs": [],
   "source": [
    "ratings = pd.read_csv(\"ml-25m/ratings.csv\").drop_duplicates([\"userId\", \"movieId\"])\n",
    "movies = pd.read_csv(\"ml-25m/movies.csv\")"
   ]
  },
  {
   "cell_type": "code",
   "execution_count": 17,
   "metadata": {},
   "outputs": [
    {
     "data": {
      "text/html": [
       "<div>\n",
       "<style scoped>\n",
       "    .dataframe tbody tr th:only-of-type {\n",
       "        vertical-align: middle;\n",
       "    }\n",
       "\n",
       "    .dataframe tbody tr th {\n",
       "        vertical-align: top;\n",
       "    }\n",
       "\n",
       "    .dataframe thead th {\n",
       "        text-align: right;\n",
       "    }\n",
       "</style>\n",
       "<table border=\"1\" class=\"dataframe\">\n",
       "  <thead>\n",
       "    <tr style=\"text-align: right;\">\n",
       "      <th></th>\n",
       "      <th>userId</th>\n",
       "      <th>movieId</th>\n",
       "      <th>rating</th>\n",
       "      <th>timestamp</th>\n",
       "    </tr>\n",
       "  </thead>\n",
       "  <tbody>\n",
       "    <tr>\n",
       "      <th>0</th>\n",
       "      <td>1</td>\n",
       "      <td>296</td>\n",
       "      <td>5.0</td>\n",
       "      <td>1147880044</td>\n",
       "    </tr>\n",
       "    <tr>\n",
       "      <th>1</th>\n",
       "      <td>1</td>\n",
       "      <td>306</td>\n",
       "      <td>3.5</td>\n",
       "      <td>1147868817</td>\n",
       "    </tr>\n",
       "    <tr>\n",
       "      <th>2</th>\n",
       "      <td>1</td>\n",
       "      <td>307</td>\n",
       "      <td>5.0</td>\n",
       "      <td>1147868828</td>\n",
       "    </tr>\n",
       "    <tr>\n",
       "      <th>3</th>\n",
       "      <td>1</td>\n",
       "      <td>665</td>\n",
       "      <td>5.0</td>\n",
       "      <td>1147878820</td>\n",
       "    </tr>\n",
       "    <tr>\n",
       "      <th>4</th>\n",
       "      <td>1</td>\n",
       "      <td>899</td>\n",
       "      <td>3.5</td>\n",
       "      <td>1147868510</td>\n",
       "    </tr>\n",
       "  </tbody>\n",
       "</table>\n",
       "</div>"
      ],
      "text/plain": [
       "   userId  movieId  rating   timestamp\n",
       "0       1      296     5.0  1147880044\n",
       "1       1      306     3.5  1147868817\n",
       "2       1      307     5.0  1147868828\n",
       "3       1      665     5.0  1147878820\n",
       "4       1      899     3.5  1147868510"
      ]
     },
     "execution_count": 17,
     "metadata": {},
     "output_type": "execute_result"
    }
   ],
   "source": [
    "ratings.head()"
   ]
  },
  {
   "cell_type": "markdown",
   "metadata": {},
   "source": [
    "Let's find my favourite movie series Indiana Jones"
   ]
  },
  {
   "cell_type": "code",
   "execution_count": 4,
   "metadata": {},
   "outputs": [
    {
     "data": {
      "text/html": [
       "<div>\n",
       "<style scoped>\n",
       "    .dataframe tbody tr th:only-of-type {\n",
       "        vertical-align: middle;\n",
       "    }\n",
       "\n",
       "    .dataframe tbody tr th {\n",
       "        vertical-align: top;\n",
       "    }\n",
       "\n",
       "    .dataframe thead th {\n",
       "        text-align: right;\n",
       "    }\n",
       "</style>\n",
       "<table border=\"1\" class=\"dataframe\">\n",
       "  <thead>\n",
       "    <tr style=\"text-align: right;\">\n",
       "      <th></th>\n",
       "      <th>movieId</th>\n",
       "      <th>title</th>\n",
       "      <th>genres</th>\n",
       "    </tr>\n",
       "  </thead>\n",
       "  <tbody>\n",
       "    <tr>\n",
       "      <th>1168</th>\n",
       "      <td>1198</td>\n",
       "      <td>Raiders of the Lost Ark (Indiana Jones and the...</td>\n",
       "      <td>Action|Adventure</td>\n",
       "    </tr>\n",
       "    <tr>\n",
       "      <th>1258</th>\n",
       "      <td>1291</td>\n",
       "      <td>Indiana Jones and the Last Crusade (1989)</td>\n",
       "      <td>Action|Adventure</td>\n",
       "    </tr>\n",
       "    <tr>\n",
       "      <th>2025</th>\n",
       "      <td>2115</td>\n",
       "      <td>Indiana Jones and the Temple of Doom (1984)</td>\n",
       "      <td>Action|Adventure|Fantasy</td>\n",
       "    </tr>\n",
       "    <tr>\n",
       "      <th>12357</th>\n",
       "      <td>59615</td>\n",
       "      <td>Indiana Jones and the Kingdom of the Crystal S...</td>\n",
       "      <td>Action|Adventure|Comedy|Sci-Fi</td>\n",
       "    </tr>\n",
       "    <tr>\n",
       "      <th>57380</th>\n",
       "      <td>196241</td>\n",
       "      <td>The Adventures of Young Indiana Jones: Adventu...</td>\n",
       "      <td>Action|Adventure|Drama</td>\n",
       "    </tr>\n",
       "  </tbody>\n",
       "</table>\n",
       "</div>"
      ],
      "text/plain": [
       "       movieId                                              title  \\\n",
       "1168      1198  Raiders of the Lost Ark (Indiana Jones and the...   \n",
       "1258      1291          Indiana Jones and the Last Crusade (1989)   \n",
       "2025      2115        Indiana Jones and the Temple of Doom (1984)   \n",
       "12357    59615  Indiana Jones and the Kingdom of the Crystal S...   \n",
       "57380   196241  The Adventures of Young Indiana Jones: Adventu...   \n",
       "\n",
       "                               genres  \n",
       "1168                 Action|Adventure  \n",
       "1258                 Action|Adventure  \n",
       "2025         Action|Adventure|Fantasy  \n",
       "12357  Action|Adventure|Comedy|Sci-Fi  \n",
       "57380          Action|Adventure|Drama  "
      ]
     },
     "execution_count": 4,
     "metadata": {},
     "output_type": "execute_result"
    }
   ],
   "source": [
    "movies_dict = dict(zip(movies[\"movieId\"], movies[\"title\"]))\n",
    "movies[movies[\"title\"].str.find(\"Indiana Jones\") >= 0]"
   ]
  },
  {
   "cell_type": "markdown",
   "metadata": {},
   "source": [
    "Let's find a funny comedy"
   ]
  },
  {
   "cell_type": "code",
   "execution_count": 5,
   "metadata": {},
   "outputs": [
    {
     "data": {
      "text/html": [
       "<div>\n",
       "<style scoped>\n",
       "    .dataframe tbody tr th:only-of-type {\n",
       "        vertical-align: middle;\n",
       "    }\n",
       "\n",
       "    .dataframe tbody tr th {\n",
       "        vertical-align: top;\n",
       "    }\n",
       "\n",
       "    .dataframe thead th {\n",
       "        text-align: right;\n",
       "    }\n",
       "</style>\n",
       "<table border=\"1\" class=\"dataframe\">\n",
       "  <thead>\n",
       "    <tr style=\"text-align: right;\">\n",
       "      <th></th>\n",
       "      <th>movieId</th>\n",
       "      <th>title</th>\n",
       "      <th>genres</th>\n",
       "    </tr>\n",
       "  </thead>\n",
       "  <tbody>\n",
       "    <tr>\n",
       "      <th>365</th>\n",
       "      <td>370</td>\n",
       "      <td>Naked Gun 33 1/3: The Final Insult (1994)</td>\n",
       "      <td>Action|Comedy</td>\n",
       "    </tr>\n",
       "    <tr>\n",
       "      <th>3765</th>\n",
       "      <td>3868</td>\n",
       "      <td>Naked Gun: From the Files of Police Squad!, Th...</td>\n",
       "      <td>Action|Comedy|Crime|Romance</td>\n",
       "    </tr>\n",
       "    <tr>\n",
       "      <th>3766</th>\n",
       "      <td>3869</td>\n",
       "      <td>Naked Gun 2 1/2: The Smell of Fear, The (1991)</td>\n",
       "      <td>Comedy</td>\n",
       "    </tr>\n",
       "    <tr>\n",
       "      <th>26982</th>\n",
       "      <td>128025</td>\n",
       "      <td>Naked Gun (1956)</td>\n",
       "      <td>Western</td>\n",
       "    </tr>\n",
       "  </tbody>\n",
       "</table>\n",
       "</div>"
      ],
      "text/plain": [
       "       movieId                                              title  \\\n",
       "365        370          Naked Gun 33 1/3: The Final Insult (1994)   \n",
       "3765      3868  Naked Gun: From the Files of Police Squad!, Th...   \n",
       "3766      3869     Naked Gun 2 1/2: The Smell of Fear, The (1991)   \n",
       "26982   128025                                   Naked Gun (1956)   \n",
       "\n",
       "                            genres  \n",
       "365                  Action|Comedy  \n",
       "3765   Action|Comedy|Crime|Romance  \n",
       "3766                        Comedy  \n",
       "26982                      Western  "
      ]
     },
     "execution_count": 5,
     "metadata": {},
     "output_type": "execute_result"
    }
   ],
   "source": [
    "movies[movies[\"title\"].str.find(\"Naked Gun\") >= 0]"
   ]
  },
  {
   "cell_type": "code",
   "execution_count": 7,
   "metadata": {},
   "outputs": [
    {
     "data": {
      "text/plain": [
       "userId         162541\n",
       "movieId         59047\n",
       "rating             10\n",
       "timestamp    20115267\n",
       "dtype: int64"
      ]
     },
     "execution_count": 7,
     "metadata": {},
     "output_type": "execute_result"
    }
   ],
   "source": [
    "ratings.nunique()"
   ]
  },
  {
   "cell_type": "markdown",
   "metadata": {},
   "source": [
    "Let's build a matrix with ratings\n",
    "-----------\n",
    "\n",
    "Because the movie and user is id we can use them as coordinates in the matrix. \n",
    "\n",
    "We are using `scipy.sparse.coo_matrix` which is very easy to build from (x,y) coordinates."
   ]
  },
  {
   "cell_type": "code",
   "execution_count": 8,
   "metadata": {},
   "outputs": [
    {
     "data": {
      "text/plain": [
       "<162542x209172 sparse matrix of type '<class 'numpy.float64'>'\n",
       "\twith 25000095 stored elements in COOrdinate format>"
      ]
     },
     "execution_count": 8,
     "metadata": {},
     "output_type": "execute_result"
    }
   ],
   "source": [
    "ratings_matrix = sparse.coo_matrix((ratings.rating.values, (ratings.userId.values, ratings.movieId.values)))\n",
    "ratings_matrix"
   ]
  },
  {
   "cell_type": "code",
   "execution_count": 9,
   "metadata": {},
   "outputs": [
    {
     "data": {
      "text/plain": [
       "TruncatedSVD(n_components=20)"
      ]
     },
     "execution_count": 9,
     "metadata": {},
     "output_type": "execute_result"
    }
   ],
   "source": [
    "svd = TruncatedSVD(n_components=20)\n",
    "svd.fit(ratings_matrix)"
   ]
  },
  {
   "cell_type": "code",
   "execution_count": 10,
   "metadata": {},
   "outputs": [
    {
     "data": {
      "text/plain": [
       "(209172, 20)"
      ]
     },
     "execution_count": 10,
     "metadata": {},
     "output_type": "execute_result"
    }
   ],
   "source": [
    "movie_embedding = svd.components_.transpose()\n",
    "movie_embedding.shape"
   ]
  },
  {
   "cell_type": "markdown",
   "metadata": {},
   "source": [
    "Let's look for \"Indiana Jones - Raiders of the lost ark\" embedding"
   ]
  },
  {
   "cell_type": "code",
   "execution_count": 11,
   "metadata": {},
   "outputs": [
    {
     "data": {
      "text/plain": [
       "array([ 0.08744582,  0.01620713, -0.01203286, -0.07023537, -0.0986071 ,\n",
       "        0.10747828,  0.06099655, -0.02860278,  0.01984636, -0.00688183,\n",
       "       -0.04975415,  0.00932437, -0.03605594, -0.02638384,  0.06015141,\n",
       "        0.11285749,  0.11305136, -0.07237385, -0.00484498,  0.0711646 ])"
      ]
     },
     "execution_count": 11,
     "metadata": {},
     "output_type": "execute_result"
    }
   ],
   "source": [
    "movie_embedding[1198]"
   ]
  },
  {
   "cell_type": "markdown",
   "metadata": {},
   "source": [
    "Let's learn an algorithm to search for nearest neighbors for movies. It will take a while.\n",
    "\n",
    "We can check out the documentation of TruncatedSVD - https://scikit-learn.org/stable/modules/generated/sklearn.decomposition.TruncatedSVD.html#sklearn.decomposition.TruncatedSVD."
   ]
  },
  {
   "cell_type": "code",
   "execution_count": 12,
   "metadata": {},
   "outputs": [
    {
     "data": {
      "text/plain": [
       "NearestNeighbors(n_neighbors=20)"
      ]
     },
     "execution_count": 12,
     "metadata": {},
     "output_type": "execute_result"
    }
   ],
   "source": [
    "nn = NearestNeighbors(n_neighbors=20)\n",
    "nn.fit(movie_embedding)"
   ]
  },
  {
   "cell_type": "markdown",
   "metadata": {},
   "source": [
    "Indiana Jones - similar movies\n",
    "------------------"
   ]
  },
  {
   "cell_type": "code",
   "execution_count": 13,
   "metadata": {},
   "outputs": [
    {
     "name": "stdout",
     "output_type": "stream",
     "text": [
      "0.0 Raiders of the Lost Ark (Indiana Jones and the Raiders of the Lost Ark) (1981)\n",
      "0.11319057161491887 Star Wars: Episode V - The Empire Strikes Back (1980)\n",
      "0.1399873133584752 Indiana Jones and the Last Crusade (1989)\n",
      "0.18465128000789008 Star Wars: Episode VI - Return of the Jedi (1983)\n",
      "0.20601690983492293 Princess Bride, The (1987)\n",
      "0.22300411992879432 Die Hard (1988)\n",
      "0.22947689381572411 Star Wars: Episode IV - A New Hope (1977)\n",
      "0.23457487403574817 Terminator, The (1984)\n",
      "0.23775986844616487 Back to the Future (1985)\n",
      "0.23932734821637136 Aliens (1986)\n",
      "0.24415344256426236 Monty Python and the Holy Grail (1975)\n",
      "0.247865008871006 Star Trek II: The Wrath of Khan (1982)\n",
      "0.25897859521168565 Indiana Jones and the Temple of Doom (1984)\n",
      "0.259486195969495 Star Trek IV: The Voyage Home (1986)\n",
      "0.2602243913301259 Alien (1979)\n",
      "0.2625297208591597 Glory (1989)\n",
      "0.26429001998870344 Blade Runner (1982)\n",
      "0.268141922337746 Blues Brothers, The (1980)\n",
      "0.2692909863324885 Star Trek III: The Search for Spock (1984)\n",
      "0.2708563433503552 Sting, The (1973)\n"
     ]
    }
   ],
   "source": [
    "distances, movie_ids = nn.kneighbors([movie_embedding[1198]])\n",
    "for distance, movie_id in zip(distances[0], movie_ids[0]):\n",
    "    print(distance, movies_dict[movie_id])"
   ]
  },
  {
   "cell_type": "markdown",
   "metadata": {},
   "source": [
    "Naked Gun - similar movies\n",
    "------------"
   ]
  },
  {
   "cell_type": "code",
   "execution_count": 16,
   "metadata": {},
   "outputs": [
    {
     "name": "stdout",
     "output_type": "stream",
     "text": [
      "0.0 Naked Gun: From the Files of Police Squad!, The (1988)\n",
      "0.039020327960735054 Naked Gun 2 1/2: The Smell of Fear, The (1991)\n",
      "0.03913172612790046 Coming to America (1988)\n",
      "0.040023118822807145 Wayne's World 2 (1993)\n",
      "0.041115292725337406 Revenge of the Nerds (1984)\n",
      "0.042002291072521174 Airplane II: The Sequel (1982)\n",
      "0.04260660165273912 History of the World: Part I (1981)\n",
      "0.04262211063984662 ¡Three Amigos! (1986)\n",
      "0.04262380690807967 Major League (1989)\n",
      "0.04415163152833371 Planes, Trains & Automobiles (1987)\n",
      "0.044220495439206614 Big Trouble in Little China (1986)\n",
      "0.04441460992329794 Eddie Murphy Raw (1987)\n",
      "0.0446007090173688 Scrooged (1988)\n",
      "0.044657483181479794 What About Bob? (1991)\n",
      "0.04477692956356961 Dirty Rotten Scoundrels (1988)\n",
      "0.04509686318552511 European Vacation (aka National Lampoon's European Vacation) (1985)\n",
      "0.04568472382446882 Beverly Hills Cop II (1987)\n",
      "0.04579787421252706 Top Secret! (1984)\n",
      "0.045910160640419674 White Men Can't Jump (1992)\n",
      "0.04594901936555633 Uncle Buck (1989)\n"
     ]
    }
   ],
   "source": [
    "distances, movie_ids = nn.kneighbors([movie_embedding[3868]])\n",
    "for distance, movie_id in zip(distances[0], movie_ids[0]):\n",
    "    print(distance, movies_dict[movie_id])"
   ]
  },
  {
   "cell_type": "markdown",
   "metadata": {},
   "source": [
    "Exercises:\n",
    "==========\n",
    "    1. Find your favourite movie and check similar movies - do the recommendations make sense.\n",
    "    2. Try with different number of SVD components (it could give more precise results).\n",
    "    3. Try other decomposition algorithms from scikit-learn like NMF.\n",
    "    4. Try to reduce the number of components to 2 and plot the embeddings - add colors for movie genres - do they make clusters?"
   ]
  }
 ],
 "metadata": {
  "jupytext": {
   "text_representation": {
    "extension": ".py",
    "format_name": "light",
    "format_version": "1.5",
    "jupytext_version": "1.5.0"
   }
  },
  "kernelspec": {
   "display_name": "Python 3",
   "language": "python",
   "name": "python3"
  },
  "language_info": {
   "codemirror_mode": {
    "name": "ipython",
    "version": 3
   },
   "file_extension": ".py",
   "mimetype": "text/x-python",
   "name": "python",
   "nbconvert_exporter": "python",
   "pygments_lexer": "ipython3",
   "version": "3.7.4"
  }
 },
 "nbformat": 4,
 "nbformat_minor": 4
}
